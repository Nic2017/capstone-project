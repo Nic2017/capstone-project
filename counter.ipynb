{
 "cells": [
  {
   "cell_type": "code",
   "execution_count": 1,
   "metadata": {},
   "outputs": [
    {
     "name": "stdout",
     "output_type": "stream",
     "text": [
      "[nltk_data] Downloading package stopwords to\n",
      "[nltk_data]     C:\\Users\\win10\\AppData\\Roaming\\nltk_data...\n",
      "[nltk_data]   Package stopwords is already up-to-date!\n"
     ]
    },
    {
     "name": "stderr",
     "output_type": "stream",
     "text": [
      "100%|██████████████████████████████████████████████████████████████████████████████████| 20/20 [03:27<00:00, 10.38s/it]\n"
     ]
    },
    {
     "data": {
      "text/plain": [
       "<Figure size 640x480 with 0 Axes>"
      ]
     },
     "metadata": {},
     "output_type": "display_data"
    },
    {
     "data": {
      "text/plain": [
       "<Figure size 1000x700 with 1 Axes>"
      ]
     },
     "metadata": {},
     "output_type": "display_data"
    },
    {
     "data": {
      "text/plain": [
       "<Figure size 640x480 with 0 Axes>"
      ]
     },
     "metadata": {},
     "output_type": "display_data"
    },
    {
     "data": {
      "text/plain": [
       "<Figure size 1000x700 with 1 Axes>"
      ]
     },
     "metadata": {},
     "output_type": "display_data"
    },
    {
     "data": {
      "text/plain": [
       "<Figure size 640x480 with 0 Axes>"
      ]
     },
     "metadata": {},
     "output_type": "display_data"
    },
    {
     "data": {
      "text/plain": [
       "<Figure size 1000x700 with 1 Axes>"
      ]
     },
     "metadata": {},
     "output_type": "display_data"
    }
   ],
   "source": [
    "import pandas as pd\n",
    "import numpy as np  \n",
    "import matplotlib.pyplot as plt  \n",
    "import os\n",
    "import inspect\n",
    "from tqdm import trange\n",
    "#import visuals as vs\n",
    "from pylab import mpl\n",
    "import nltk\n",
    "from nltk.corpus import stopwords\n",
    "\n",
    "mpl.rcParams['font.sans-serif'] = ['SimHei'] # 指定默认字体\n",
    "mpl.rcParams['axes.unicode_minus'] = False # 解决保存图像是负号'-'显示为方块的问题\n",
    "\n",
    "This_File=inspect.getfile(inspect.currentframe())\n",
    "Dirname=os.path.abspath(os.path.dirname(This_File))\n",
    "\n",
    "\n",
    "doc_path=r\"D:\\HSBC\\进修\\Projects\\毕业项目\\20news-bydate\\20news-bydate-train\"\n",
    "All_Folders=os.listdir(r'D:\\HSBC\\进修\\Projects\\毕业项目\\20news-bydate\\20news-bydate-train')\n",
    "\n",
    "nltk.download('stopwords')\n",
    "stop_list=list(stopwords.words('english'))\n",
    "\n",
    "def getText(sub_doc_path,doc_name):\n",
    "    txt=open(sub_doc_path+\"\\\\\"+doc_name,\"rb+\").read()\n",
    "    txt=txt.lower()\n",
    "    txt=txt.decode(\"utf-8\",\"ignore\")\n",
    "    #txt=str(txt)\n",
    "    for ch in '~!@#$%^&*()_+\"-{}[]|=?./\\;,<>:?':\n",
    "        txt=txt.replace(ch,\"\")\n",
    "    return txt\n",
    "\n",
    "alphab_list=[chr(i) for i in range(97,123)]\n",
    "\n",
    "up_alphab_list=[x.upper() for x in alphab_list]\n",
    "\n",
    "alphab_list.extend(up_alphab_list)\n",
    "\n",
    "Word_Count_Dict={}\n",
    "\n",
    "Word_Overview_Dict={}\n",
    "\n",
    "def delete_acc_to_sw(this_list,stop_words):\n",
    "    new_list=[]\n",
    "    for tup_inx in range(len(this_list)):\n",
    "        tup=this_list[tup_inx]\n",
    "        if tup[0] not in stop_words and tup[0] not in alphab_list and tup[0] not in range(10)\\\n",
    "            and tup[0] not in [str(i) for i in range(10)] and tup[0]!=\" \":\n",
    "            new_list.append(tup)\n",
    "    return new_list\n",
    "\n",
    "for folder_inx in trange(len(All_Folders)):\n",
    "    folder=All_Folders[folder_inx]\n",
    "    sub_doc_path=doc_path+\"\\\\\"+folder\n",
    "    All_Docs=os.listdir(sub_doc_path)\n",
    "    this_class_list_of_tuple=[]\n",
    "    for doc in All_Docs:\n",
    "        hamletTxt=getText(sub_doc_path,doc)\n",
    "        words=hamletTxt.split()\n",
    "        counts={}\n",
    "        for word in words:\n",
    "            counts[word]=counts.get(word,0)+1\n",
    "        items=list(counts.items())\n",
    "        items.sort(key=lambda x:x[1],reverse=True)    \n",
    "        each_word_count=[i[1] for i in items]\n",
    "        Word_Count=sum(each_word_count)\n",
    "        Word_Count_Dict[folder+\"\\\\\"+doc]=Word_Count\n",
    "        items_without_sw=delete_acc_to_sw(items,stop_list)\n",
    "        items_without_sw.sort(key=lambda x:x[1],reverse=True)  \n",
    "        this_class_list_of_tuple.extend(items_without_sw)\n",
    "\n",
    "    #jj=[this_class_list_of_tuple[i][0]==\"max'ax'ax'ax'ax'ax'ax'ax'ax'ax'ax'ax'ax'ax'ax'\" for i in range(len(this_class_list_of_tuple))]\n",
    "    this_class_list_of_tuple.sort(key=lambda x:x[1],reverse=True) \n",
    "    voca=[this_class_list_of_tuple[i][0] for i in range(len(this_class_list_of_tuple))]\n",
    "    voca_freq=[this_class_list_of_tuple[i][1] for i in range(len(this_class_list_of_tuple))]\n",
    "    aux_list=[voca,voca_freq]\n",
    "    aux_df=pd.DataFrame(aux_list)\n",
    "    aux_df=aux_df.T\n",
    "    aux_df.columns=[\"voca\",\"freq\"]\n",
    "    aux_df=aux_df.groupby(\"voca\",as_index=False).sum()\n",
    "    aux_df=aux_df.sort_values(by=\"freq\",ascending=False)\n",
    "    \n",
    "    top_10_for_this_class=[(aux_df.iloc[i,0],aux_df.iloc[i,1]) for i in range(10)]\n",
    "    #top_10_for_this_class=this_class_list_of_tuple[:10]\n",
    "    Word_Overview_Dict[folder]=top_10_for_this_class\n",
    "    \n",
    "'''        \n",
    "X=list(Word_Count_Dict.keys())\n",
    "X.sort()\n",
    "Y=[Word_Count_Dict[i] for i in X]\n",
    "'''\n",
    "a=pd.DataFrame(Word_Count_Dict,index = [\"Count\"])\n",
    "a=a.T\n",
    "fig = plt.figure() \n",
    "f, ax = plt.subplots(figsize=(10, 7))\n",
    "ax.set_title('新闻长度散点图')  \n",
    "plt.xlabel('辅助性X轴') \n",
    "plt.ylabel('单词数量')\n",
    "plt.scatter(x=range(len(a)), y=a[\"Count\"], c='r')\n",
    "plt.legend('x1') \n",
    "plt.show() \n",
    "#vs.distribution(a)\n",
    "###找某值对应的键\n",
    "###list(Word_Count_Dict.keys())[list(Word_Count_Dict.values()).index(14)]\n",
    "\n",
    "'''统计文章数量'''\n",
    "Train_Doc_Num_Overview={}\n",
    "Test_Doc_Num_Overview={}\n",
    "path=r\"D:\\HSBC\\进修\\Projects\\毕业项目\\20news-bydate\\20news-bydate-test\"\n",
    "classes = os.listdir(path)\n",
    "    \n",
    "for Class in classes:\n",
    "    count = 0\n",
    "    docs_path=path+\"\\\\\"+Class\n",
    "    all_documents=os.listdir(docs_path)\n",
    "    for document in all_documents:\n",
    "        if os.path.isfile(os.path.join(docs_path,document)):\n",
    "            count += 1\n",
    "    Test_Doc_Num_Overview[Class]=count\n",
    "\n",
    "train_class_list=[]\n",
    "train_doc_count_list=[]\n",
    "test_class_list=[]\n",
    "test_doc_count_list=[]\n",
    "for i,j in Train_Doc_Num_Overview.items():\n",
    "    train_class_list.append(i)\n",
    "    train_doc_count_list.append(j)\n",
    "\n",
    "for i,j in Test_Doc_Num_Overview.items():\n",
    "    test_class_list.append(i)\n",
    "    test_doc_count_list.append(j)\n",
    "    \n",
    "fig2 = plt.figure() \n",
    "f1, ax1 = plt.subplots(figsize=(10, 7))\n",
    "ax1.set_title('训练集各分类文章数量统计') \n",
    "plt.bar(train_class_list, train_doc_count_list)\n",
    "ax1.set_xticklabels(train_class_list, rotation = 45, ha=\"right\") \n",
    "plt.xlabel('新闻分类') \n",
    "plt.ylabel('文章数量')\n",
    "plt.show()\n",
    "\n",
    "fig3 = plt.figure() \n",
    "f2, ax2 = plt.subplots(figsize=(10, 7))\n",
    "ax2.set_title('测试集各分类文章数量统计') \n",
    "plt.bar(test_class_list, test_doc_count_list,color='purple')\n",
    "ax2.set_xticklabels(test_class_list, rotation = 45, ha=\"right\") \n",
    "plt.xlabel('新闻分类') \n",
    "plt.ylabel('文章数量')\n",
    "plt.show()"
   ]
  },
  {
   "cell_type": "code",
   "execution_count": null,
   "metadata": {},
   "outputs": [],
   "source": []
  }
 ],
 "metadata": {
  "kernelspec": {
   "display_name": "Python 3",
   "language": "python",
   "name": "python3"
  },
  "language_info": {
   "codemirror_mode": {
    "name": "ipython",
    "version": 3
   },
   "file_extension": ".py",
   "mimetype": "text/x-python",
   "name": "python",
   "nbconvert_exporter": "python",
   "pygments_lexer": "ipython3",
   "version": "3.5.5"
  },
  "widgets": {
   "state": {},
   "version": "1.1.2"
  }
 },
 "nbformat": 4,
 "nbformat_minor": 2
}
