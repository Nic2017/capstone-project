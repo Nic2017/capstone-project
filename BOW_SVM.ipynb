{
 "cells": [
  {
   "cell_type": "markdown",
   "metadata": {},
   "source": [
    "# 导入库还有下载nltk语料库"
   ]
  },
  {
   "cell_type": "code",
   "execution_count": 1,
   "metadata": {},
   "outputs": [],
   "source": [
    "import re\n",
    "import pandas as pd\n",
    "import numpy as np  \n",
    "#import os\n",
    "#import inspect\n",
    "from tqdm import trange\n",
    "import nltk\n",
    "from nltk import pos_tag\n",
    "from nltk.corpus import stopwords\n",
    "from nltk.stem.wordnet import WordNetLemmatizer\n",
    "from nltk.corpus import wordnet as wn\n",
    "from nltk.stem.lancaster import LancasterStemmer\n",
    "from sklearn.preprocessing import LabelEncoder as LE\n",
    "from sklearn.feature_extraction.text import TfidfVectorizer\n",
    "from sklearn.ensemble import RandomForestClassifier\n",
    "from sklearn.model_selection import train_test_split as tts\n",
    "from sklearn.svm import SVC\n",
    "from sklearn.metrics import accuracy_score\n",
    "from sklearn.externals import joblib\n",
    "from time import time\n",
    "nltk.download('all')"
   ]
  },
  {
   "cell_type": "markdown",
   "metadata": {},
   "source": [
    "# 预处理部分"
   ]
  },
  {
   "cell_type": "code",
   "execution_count": 66,
   "metadata": {},
   "outputs": [],
   "source": [
    "doc_path=r\"D:\\HSBC\\进修\\Projects\\毕业项目\\20news-bydate\\20news-bydate-train\"\n",
    "All_Folders=os.listdir(r'D:\\HSBC\\进修\\Projects\\毕业项目\\20news-bydate\\20news-bydate-train')\n",
    "\n",
    "#nltk.download('all')\n",
    "stop_list=list(stopwords.words('english'))\n",
    "\n",
    "alphab_list=[chr(i) for i in range(97,123)]\n",
    "\n",
    "up_alphab_list=[x.upper() for x in alphab_list]\n",
    "\n",
    "alphab_list.extend(up_alphab_list)"
   ]
  },
  {
   "cell_type": "code",
   "execution_count": 67,
   "metadata": {},
   "outputs": [],
   "source": [
    "'''---大小写26个字母均去除---'''\n",
    "stop_list.extend(alphab_list)\n",
    "\n",
    "'''---分词性方便词性还原---'''\n",
    "def pos_convert(pos_tag_label):\n",
    "    if pos_tag_label.lower()[0]=='r':\n",
    "        return wn.ADV\n",
    "    elif pos_tag_label.lower()[0]=='j':\n",
    "        return wn.ADJ\n",
    "    elif pos_tag_label.lower()[0]=='n':\n",
    "        return wn.NOUN\n",
    "    elif pos_tag_label.lower()[0]=='v':\n",
    "        return wn.VERB\n",
    "    else:\n",
    "        return wn.VERB\n",
    "\n",
    "'''---清洗+分词+词性还原+词干提取---'''\n",
    "def Clean_Token_Lemma_Stem(sub_doc_path,doc_name):\n",
    "    txt=open(sub_doc_path+\"\\\\\"+doc_name,\"rb+\").read()\n",
    "    txt=txt.lower()\n",
    "    txt=txt.decode(\"utf-8\",\"ignore\")\n",
    "    #txt=str(txt)\n",
    "    txt=re.sub(r\"[^a-zA-Z]\", \" \", txt)\n",
    "    words=nltk.word_tokenize(txt)\n",
    "    words=[w for w in words if w not in stop_list]\n",
    "    '''---lemma---'''\n",
    "    POS=pos_tag(words)\n",
    "    \n",
    "    lemmed = [WordNetLemmatizer().lemmatize(pair[0], pos=pos_convert(pair[1])) for pair in POS]\n",
    "    \n",
    "    stemmed = [LancasterStemmer().stem(w) for w in lemmed]\n",
    "    \n",
    "    return stemmed"
   ]
  },
  {
   "cell_type": "markdown",
   "metadata": {},
   "source": [
    "# 开始预处理并合并训练集和测试集"
   ]
  },
  {
   "cell_type": "code",
   "execution_count": 68,
   "metadata": {},
   "outputs": [
    {
     "name": "stderr",
     "output_type": "stream",
     "text": [
      "100%|██████████████████████████████████████████████████████████████████████████████████| 20/20 [12:21<00:00, 37.06s/it]\n",
      "100%|██████████████████████████████████████████████████████████████████████████████████| 20/20 [07:57<00:00, 23.86s/it]\n"
     ]
    }
   ],
   "source": [
    "X = []\n",
    "y = []\n",
    "for folder_inx in trange(len(All_Folders)):\n",
    "    folder=All_Folders[folder_inx]\n",
    "    sub_doc_path=doc_path+\"\\\\\"+folder\n",
    "    All_Docs=os.listdir(sub_doc_path)\n",
    "    for doc in All_Docs:\n",
    "        words=list(set(Clean_Token_Lemma_Stem(sub_doc_path,doc)))\n",
    "        join_words=' '.join(words)\n",
    "        X.append(join_words)\n",
    "        y.append(folder)\n",
    "        \n",
    "'''---测试部分---'''\n",
    "test_doc_path=r\"D:\\HSBC\\进修\\Projects\\毕业项目\\20news-bydate\\20news-bydate-test\"\n",
    "Test_All_Folders=os.listdir(r'D:\\HSBC\\进修\\Projects\\毕业项目\\20news-bydate\\20news-bydate-test')\n",
    "\n",
    "#Test_X = []\n",
    "#Test_y = []\n",
    "for folder_inx in trange(len(Test_All_Folders)):\n",
    "    folder=Test_All_Folders[folder_inx]\n",
    "    sub_doc_path=test_doc_path+\"\\\\\"+folder\n",
    "    All_Docs=os.listdir(sub_doc_path)\n",
    "    for doc in All_Docs:\n",
    "        words=list(set(Clean_Token_Lemma_Stem(sub_doc_path,doc)))\n",
    "        join_words=' '.join(words)\n",
    "        X.append(join_words)\n",
    "        y.append(folder)"
   ]
  },
  {
   "cell_type": "code",
   "execution_count": 69,
   "metadata": {},
   "outputs": [],
   "source": [
    "dic={'doc':X,'label':y}\n",
    "\n",
    "output=pd.DataFrame(dic)\n",
    "\n",
    "output.to_csv('./output_stemmed.csv')#only applicable for \"join\""
   ]
  },
  {
   "cell_type": "markdown",
   "metadata": {},
   "source": [
    "# 开始训练模型(批改老师最好从此开始运行)"
   ]
  },
  {
   "cell_type": "code",
   "execution_count": null,
   "metadata": {},
   "outputs": [],
   "source": [
    "output=pd.read_csv('./output_stemmed.csv')#已经在BOW_SVM中预处理好的文本数据\n",
    "\n",
    "X=output['doc'].tolist()\n",
    "y=output['label'].tolist()"
   ]
  },
  {
   "cell_type": "code",
   "execution_count": 5,
   "metadata": {},
   "outputs": [],
   "source": [
    "le = LE()\n",
    "\n",
    "tfv = TfidfVectorizer()\n",
    "\n",
    "X=tfv.fit_transform(X)\n",
    "y=le.fit_transform(y)\n",
    "\n",
    "trainx, testx, trainy, testy = tts(X, y, test_size=.3, random_state=42)"
   ]
  },
  {
   "cell_type": "code",
   "execution_count": 10,
   "metadata": {},
   "outputs": [
    {
     "name": "stdout",
     "output_type": "stream",
     "text": [
      "SVC: 0.9131741821396994\n",
      "training and test time:215.78s\n"
     ]
    }
   ],
   "source": [
    "start=time()\n",
    "clf = SVC(kernel='linear')\n",
    "clf.fit(trainx,trainy)\n",
    "\n",
    "y_pred=clf.predict(testx)\n",
    "\n",
    "accuracy_score(testy,y_pred)\n",
    "\n",
    "end=time()\n",
    "\n",
    "print(\"SVC:\", clf.score(testx, testy))\n",
    "print(\"training and test time:{:.2f}s\".format(end-start))"
   ]
  },
  {
   "cell_type": "markdown",
   "metadata": {},
   "source": [
    "  "
   ]
  },
  {
   "cell_type": "markdown",
   "metadata": {},
   "source": [
    "# 敏感性分析"
   ]
  },
  {
   "cell_type": "code",
   "execution_count": 12,
   "metadata": {},
   "outputs": [],
   "source": [
    "def sen_test(test_split):\n",
    "    print(\"test set size is:\", test_split)\n",
    "    trainx, testx, trainy, testy = tts(X, y, test_size=test_split, random_state=42)\n",
    "    C_list=[1,5,10,20,50,100]\n",
    "    for i in C_list:\n",
    "        \n",
    "        clf = SVC(C=i,kernel='linear')\n",
    "        \n",
    "        clf.fit(trainx,trainy)\n",
    "\n",
    "        y_pred=clf.predict(testx)\n",
    "\n",
    "        accuracy_score(testy,y_pred)\n",
    "        \n",
    "        print(\"SVC:\", clf.score(testx, testy))\n",
    "        #print(\"test_split=\", test_split)\n",
    "        print(\"C=\", i)\n",
    "        \n",
    "        \n",
    "        print(\"\\n\"*2)"
   ]
  },
  {
   "cell_type": "code",
   "execution_count": 13,
   "metadata": {},
   "outputs": [
    {
     "name": "stdout",
     "output_type": "stream",
     "text": [
      "test set size is: 0.1\n",
      "SVC: 0.9183023872679045\n",
      "C= 1\n",
      "\n",
      "\n",
      "\n",
      "SVC: 0.9183023872679045\n",
      "C= 5\n",
      "\n",
      "\n",
      "\n",
      "SVC: 0.9183023872679045\n",
      "C= 10\n",
      "\n",
      "\n",
      "\n",
      "SVC: 0.9183023872679045\n",
      "C= 20\n",
      "\n",
      "\n",
      "\n",
      "SVC: 0.9183023872679045\n",
      "C= 50\n",
      "\n",
      "\n",
      "\n",
      "SVC: 0.9177718832891246\n",
      "C= 100\n",
      "\n",
      "\n",
      "\n",
      "test set size is: 0.2\n",
      "SVC: 0.9159151193633952\n",
      "C= 1\n",
      "\n",
      "\n",
      "\n",
      "SVC: 0.9180371352785146\n",
      "C= 5\n",
      "\n",
      "\n",
      "\n",
      "SVC: 0.9172413793103448\n",
      "C= 10\n",
      "\n",
      "\n",
      "\n",
      "SVC: 0.916710875331565\n",
      "C= 20\n",
      "\n",
      "\n",
      "\n",
      "SVC: 0.9161803713527852\n",
      "C= 50\n",
      "\n",
      "\n",
      "\n",
      "SVC: 0.916445623342175\n",
      "C= 100\n",
      "\n",
      "\n",
      "\n",
      "test set size is: 0.3\n",
      "SVC: 0.9131741821396994\n",
      "C= 1\n",
      "\n",
      "\n",
      "\n",
      "SVC: 0.9128205128205128\n",
      "C= 5\n",
      "\n",
      "\n",
      "\n",
      "SVC: 0.9121131741821397\n",
      "C= 10\n",
      "\n",
      "\n",
      "\n",
      "SVC: 0.9121131741821397\n",
      "C= 20\n",
      "\n",
      "\n",
      "\n",
      "SVC: 0.9117595048629531\n",
      "C= 50\n",
      "\n",
      "\n",
      "\n",
      "SVC: 0.9119363395225464\n",
      "C= 100\n",
      "\n",
      "\n",
      "\n",
      "sensitive test time:5022.59s\n"
     ]
    }
   ],
   "source": [
    "test_split_list=[0.1,0.2,0.3]\n",
    "start=time()\n",
    "for ts in test_split_list:\n",
    "    sen_test(ts)\n",
    "end=time()\n",
    "print(\"sensitive test time:{:.2f}s\".format(end-start))"
   ]
  },
  {
   "cell_type": "markdown",
   "metadata": {},
   "source": [
    "# 简单可视化"
   ]
  },
  {
   "cell_type": "code",
   "execution_count": 43,
   "metadata": {},
   "outputs": [],
   "source": [
    "import matplotlib.pyplot as plt"
   ]
  },
  {
   "cell_type": "markdown",
   "metadata": {},
   "source": [
    "参数C"
   ]
  },
  {
   "cell_type": "code",
   "execution_count": 59,
   "metadata": {},
   "outputs": [],
   "source": [
    "first=[0.9183,0.9183,0.9183,0.9183,0.9183,0.9178]\n",
    "second=[0.9159,0.918,0.9172,0.9167,0.9161,0.9164]\n",
    "third=[0.9132,0.9128,0.9121,0.9121,0.9118,0.9119]"
   ]
  },
  {
   "cell_type": "code",
   "execution_count": 61,
   "metadata": {},
   "outputs": [],
   "source": [
    "df = pd.DataFrame({ '0.1' : first,\n",
    "                    '0.2' : second,\n",
    "                    '0.3' : third,\n",
    "                  'x':['1','5','10','20','50','100']})"
   ]
  },
  {
   "cell_type": "code",
   "execution_count": 62,
   "metadata": {},
   "outputs": [],
   "source": [
    "df=df.T"
   ]
  },
  {
   "cell_type": "code",
   "execution_count": 63,
   "metadata": {},
   "outputs": [
    {
     "data": {
      "text/html": [
       "<div>\n",
       "<style scoped>\n",
       "    .dataframe tbody tr th:only-of-type {\n",
       "        vertical-align: middle;\n",
       "    }\n",
       "\n",
       "    .dataframe tbody tr th {\n",
       "        vertical-align: top;\n",
       "    }\n",
       "\n",
       "    .dataframe thead th {\n",
       "        text-align: right;\n",
       "    }\n",
       "</style>\n",
       "<table border=\"1\" class=\"dataframe\">\n",
       "  <thead>\n",
       "    <tr style=\"text-align: right;\">\n",
       "      <th></th>\n",
       "      <th>0</th>\n",
       "      <th>1</th>\n",
       "      <th>2</th>\n",
       "      <th>3</th>\n",
       "      <th>4</th>\n",
       "      <th>5</th>\n",
       "    </tr>\n",
       "  </thead>\n",
       "  <tbody>\n",
       "    <tr>\n",
       "      <th>0.1</th>\n",
       "      <td>0.9183</td>\n",
       "      <td>0.9183</td>\n",
       "      <td>0.9183</td>\n",
       "      <td>0.9183</td>\n",
       "      <td>0.9183</td>\n",
       "      <td>0.9178</td>\n",
       "    </tr>\n",
       "    <tr>\n",
       "      <th>0.2</th>\n",
       "      <td>0.9159</td>\n",
       "      <td>0.918</td>\n",
       "      <td>0.9172</td>\n",
       "      <td>0.9167</td>\n",
       "      <td>0.9161</td>\n",
       "      <td>0.9164</td>\n",
       "    </tr>\n",
       "    <tr>\n",
       "      <th>0.3</th>\n",
       "      <td>0.9132</td>\n",
       "      <td>0.9128</td>\n",
       "      <td>0.9121</td>\n",
       "      <td>0.9121</td>\n",
       "      <td>0.9118</td>\n",
       "      <td>0.9119</td>\n",
       "    </tr>\n",
       "    <tr>\n",
       "      <th>x</th>\n",
       "      <td>1</td>\n",
       "      <td>5</td>\n",
       "      <td>10</td>\n",
       "      <td>20</td>\n",
       "      <td>50</td>\n",
       "      <td>100</td>\n",
       "    </tr>\n",
       "  </tbody>\n",
       "</table>\n",
       "</div>"
      ],
      "text/plain": [
       "          0       1       2       3       4       5\n",
       "0.1  0.9183  0.9183  0.9183  0.9183  0.9183  0.9178\n",
       "0.2  0.9159   0.918  0.9172  0.9167  0.9161  0.9164\n",
       "0.3  0.9132  0.9128  0.9121  0.9121  0.9118  0.9119\n",
       "x         1       5      10      20      50     100"
      ]
     },
     "execution_count": 63,
     "metadata": {},
     "output_type": "execute_result"
    }
   ],
   "source": [
    "df"
   ]
  },
  {
   "cell_type": "code",
   "execution_count": 64,
   "metadata": {},
   "outputs": [],
   "source": [
    "col=['1','5','10','20','50','100']"
   ]
  },
  {
   "cell_type": "code",
   "execution_count": 65,
   "metadata": {},
   "outputs": [
    {
     "data": {
      "text/plain": [
       "<matplotlib.legend.Legend at 0x244e4475b38>"
      ]
     },
     "execution_count": 65,
     "metadata": {},
     "output_type": "execute_result"
    },
    {
     "data": {
      "image/png": "[encoded data removed]",
      "text/plain": [
       "<Figure size 432x288 with 1 Axes>"
      ]
     },
     "metadata": {},
     "output_type": "display_data"
    }
   ],
   "source": [
    "plt.plot( col, first, marker='o', markerfacecolor='blue', markersize=12, color='skyblue', linewidth=4)\n",
    "plt.plot( col, second, marker='', color='olive', linewidth=2)\n",
    "plt.plot( col, third, marker='', color='olive', linewidth=2, linestyle='dashed', label=\"toto\")\n",
    "plt.xlabel('Parameter C') \n",
    "plt.ylabel('Test_Acc')\n",
    "plt.legend([0.1,0.2,0.3])"
   ]
  },
  {
   "cell_type": "markdown",
   "metadata": {},
   "source": [
    "Max_Seq_Length"
   ]
  },
  {
   "cell_type": "code",
   "execution_count": 35,
   "metadata": {},
   "outputs": [],
   "source": [
    "fist=[0.8435,0.8535,0.8551,0.8546,0.8568]\n",
    "second=[0.8233,0.8401,0.8448,0.8416,0.8557]\n",
    "third=[0.8152,0.8345,0.8304,0.8398,0.8311]"
   ]
  },
  {
   "cell_type": "code",
   "execution_count": 47,
   "metadata": {},
   "outputs": [],
   "source": [
    "df = pd.DataFrame({ '0.1' : fist,\n",
    "                    '0.2' : second,\n",
    "                    '0.3' : third,\n",
    "                  'x':['100','150','200','250','300']})"
   ]
  },
  {
   "cell_type": "code",
   "execution_count": 48,
   "metadata": {},
   "outputs": [],
   "source": [
    "df=df.T"
   ]
  },
  {
   "cell_type": "code",
   "execution_count": 49,
   "metadata": {},
   "outputs": [
    {
     "data": {
      "text/html": [
       "<div>\n",
       "<style scoped>\n",
       "    .dataframe tbody tr th:only-of-type {\n",
       "        vertical-align: middle;\n",
       "    }\n",
       "\n",
       "    .dataframe tbody tr th {\n",
       "        vertical-align: top;\n",
       "    }\n",
       "\n",
       "    .dataframe thead th {\n",
       "        text-align: right;\n",
       "    }\n",
       "</style>\n",
       "<table border=\"1\" class=\"dataframe\">\n",
       "  <thead>\n",
       "    <tr style=\"text-align: right;\">\n",
       "      <th></th>\n",
       "      <th>0</th>\n",
       "      <th>1</th>\n",
       "      <th>2</th>\n",
       "      <th>3</th>\n",
       "      <th>4</th>\n",
       "    </tr>\n",
       "  </thead>\n",
       "  <tbody>\n",
       "    <tr>\n",
       "      <th>0.1</th>\n",
       "      <td>0.8435</td>\n",
       "      <td>0.8535</td>\n",
       "      <td>0.8551</td>\n",
       "      <td>0.8546</td>\n",
       "      <td>0.8568</td>\n",
       "    </tr>\n",
       "    <tr>\n",
       "      <th>0.2</th>\n",
       "      <td>0.8233</td>\n",
       "      <td>0.8401</td>\n",
       "      <td>0.8448</td>\n",
       "      <td>0.8416</td>\n",
       "      <td>0.8557</td>\n",
       "    </tr>\n",
       "    <tr>\n",
       "      <th>0.3</th>\n",
       "      <td>0.8152</td>\n",
       "      <td>0.8345</td>\n",
       "      <td>0.8304</td>\n",
       "      <td>0.8398</td>\n",
       "      <td>0.8311</td>\n",
       "    </tr>\n",
       "    <tr>\n",
       "      <th>x</th>\n",
       "      <td>100</td>\n",
       "      <td>150</td>\n",
       "      <td>200</td>\n",
       "      <td>250</td>\n",
       "      <td>300</td>\n",
       "    </tr>\n",
       "  </tbody>\n",
       "</table>\n",
       "</div>"
      ],
      "text/plain": [
       "          0       1       2       3       4\n",
       "0.1  0.8435  0.8535  0.8551  0.8546  0.8568\n",
       "0.2  0.8233  0.8401  0.8448  0.8416  0.8557\n",
       "0.3  0.8152  0.8345  0.8304  0.8398  0.8311\n",
       "x       100     150     200     250     300"
      ]
     },
     "execution_count": 49,
     "metadata": {},
     "output_type": "execute_result"
    }
   ],
   "source": [
    "df"
   ]
  },
  {
   "cell_type": "code",
   "execution_count": 52,
   "metadata": {},
   "outputs": [],
   "source": [
    "col=['100','150','200','250','300']"
   ]
  },
  {
   "cell_type": "code",
   "execution_count": 50,
   "metadata": {},
   "outputs": [],
   "source": [
    "df.columns=['100','150','200','250','300']"
   ]
  },
  {
   "cell_type": "code",
   "execution_count": 55,
   "metadata": {},
   "outputs": [
    {
     "data": {
      "text/plain": [
       "<matplotlib.legend.Legend at 0x244e79266d8>"
      ]
     },
     "execution_count": 55,
     "metadata": {},
     "output_type": "execute_result"
    },
    {
     "data": {
      "image/png": "[encoded data removed]",
      "text/plain": [
       "<Figure size 432x288 with 1 Axes>"
      ]
     },
     "metadata": {},
     "output_type": "display_data"
    }
   ],
   "source": [
    "plt.plot( col, fist, marker='o', markerfacecolor='blue', markersize=12, color='skyblue', linewidth=4)\n",
    "plt.plot( col, second, marker='', color='olive', linewidth=2)\n",
    "plt.plot( col, third, marker='', color='olive', linewidth=2, linestyle='dashed', label=\"toto\")\n",
    "plt.xlabel('Max_Sequence_Length') \n",
    "plt.ylabel('Test_Acc')\n",
    "plt.legend([0.1,0.2,0.3])"
   ]
  },
  {
   "cell_type": "code",
   "execution_count": null,
   "metadata": {},
   "outputs": [],
   "source": []
  }
 ],
 "metadata": {
  "kernelspec": {
   "display_name": "Python 3",
   "language": "python",
   "name": "python3"
  },
  "language_info": {
   "codemirror_mode": {
    "name": "ipython",
    "version": 3
   },
   "file_extension": ".py",
   "mimetype": "text/x-python",
   "name": "python",
   "nbconvert_exporter": "python",
   "pygments_lexer": "ipython3",
   "version": "3.5.5"
  },
  "widgets": {
   "state": {},
   "version": "1.1.2"
  }
 },
 "nbformat": 4,
 "nbformat_minor": 1
}
